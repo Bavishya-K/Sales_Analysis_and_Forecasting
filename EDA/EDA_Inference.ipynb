{
 "cells": [
  {
   "cell_type": "code",
   "execution_count": 1,
   "id": "3adfb9d9",
   "metadata": {},
   "outputs": [
    {
     "name": "stdout",
     "output_type": "stream",
     "text": [
      "Processing target category: M01AB\n"
     ]
    },
    {
     "name": "stderr",
     "output_type": "stream",
     "text": [
      "c:\\Users\\BAVISHYA\\anaconda3\\Lib\\site-packages\\sklearn\\metrics\\_regression.py:492: FutureWarning: 'squared' is deprecated in version 1.4 and will be removed in 1.6. To calculate the root mean squared error, use the function'root_mean_squared_error'.\n",
      "  warnings.warn(\n",
      "c:\\Users\\BAVISHYA\\anaconda3\\Lib\\site-packages\\sklearn\\metrics\\_regression.py:492: FutureWarning: 'squared' is deprecated in version 1.4 and will be removed in 1.6. To calculate the root mean squared error, use the function'root_mean_squared_error'.\n",
      "  warnings.warn(\n"
     ]
    },
    {
     "name": "stdout",
     "output_type": "stream",
     "text": [
      "Processing target category: M01AE\n"
     ]
    },
    {
     "name": "stderr",
     "output_type": "stream",
     "text": [
      "c:\\Users\\BAVISHYA\\anaconda3\\Lib\\site-packages\\sklearn\\metrics\\_regression.py:492: FutureWarning: 'squared' is deprecated in version 1.4 and will be removed in 1.6. To calculate the root mean squared error, use the function'root_mean_squared_error'.\n",
      "  warnings.warn(\n",
      "c:\\Users\\BAVISHYA\\anaconda3\\Lib\\site-packages\\sklearn\\metrics\\_regression.py:492: FutureWarning: 'squared' is deprecated in version 1.4 and will be removed in 1.6. To calculate the root mean squared error, use the function'root_mean_squared_error'.\n",
      "  warnings.warn(\n",
      "c:\\Users\\BAVISHYA\\anaconda3\\Lib\\site-packages\\sklearn\\metrics\\_regression.py:492: FutureWarning: 'squared' is deprecated in version 1.4 and will be removed in 1.6. To calculate the root mean squared error, use the function'root_mean_squared_error'.\n",
      "  warnings.warn(\n"
     ]
    },
    {
     "name": "stdout",
     "output_type": "stream",
     "text": [
      "Processing target category: N02BA\n"
     ]
    },
    {
     "name": "stderr",
     "output_type": "stream",
     "text": [
      "c:\\Users\\BAVISHYA\\anaconda3\\Lib\\site-packages\\sklearn\\metrics\\_regression.py:492: FutureWarning: 'squared' is deprecated in version 1.4 and will be removed in 1.6. To calculate the root mean squared error, use the function'root_mean_squared_error'.\n",
      "  warnings.warn(\n",
      "c:\\Users\\BAVISHYA\\anaconda3\\Lib\\site-packages\\sklearn\\metrics\\_regression.py:492: FutureWarning: 'squared' is deprecated in version 1.4 and will be removed in 1.6. To calculate the root mean squared error, use the function'root_mean_squared_error'.\n",
      "  warnings.warn(\n"
     ]
    },
    {
     "name": "stdout",
     "output_type": "stream",
     "text": [
      "Processing target category: N02BE\n"
     ]
    },
    {
     "name": "stderr",
     "output_type": "stream",
     "text": [
      "c:\\Users\\BAVISHYA\\anaconda3\\Lib\\site-packages\\sklearn\\metrics\\_regression.py:492: FutureWarning: 'squared' is deprecated in version 1.4 and will be removed in 1.6. To calculate the root mean squared error, use the function'root_mean_squared_error'.\n",
      "  warnings.warn(\n",
      "c:\\Users\\BAVISHYA\\anaconda3\\Lib\\site-packages\\sklearn\\metrics\\_regression.py:492: FutureWarning: 'squared' is deprecated in version 1.4 and will be removed in 1.6. To calculate the root mean squared error, use the function'root_mean_squared_error'.\n",
      "  warnings.warn(\n"
     ]
    },
    {
     "name": "stdout",
     "output_type": "stream",
     "text": [
      "Processing target category: N05B\n"
     ]
    },
    {
     "name": "stderr",
     "output_type": "stream",
     "text": [
      "c:\\Users\\BAVISHYA\\anaconda3\\Lib\\site-packages\\sklearn\\metrics\\_regression.py:492: FutureWarning: 'squared' is deprecated in version 1.4 and will be removed in 1.6. To calculate the root mean squared error, use the function'root_mean_squared_error'.\n",
      "  warnings.warn(\n",
      "c:\\Users\\BAVISHYA\\anaconda3\\Lib\\site-packages\\sklearn\\metrics\\_regression.py:492: FutureWarning: 'squared' is deprecated in version 1.4 and will be removed in 1.6. To calculate the root mean squared error, use the function'root_mean_squared_error'.\n",
      "  warnings.warn(\n"
     ]
    },
    {
     "name": "stdout",
     "output_type": "stream",
     "text": [
      "Processing target category: N05C\n"
     ]
    },
    {
     "name": "stderr",
     "output_type": "stream",
     "text": [
      "c:\\Users\\BAVISHYA\\anaconda3\\Lib\\site-packages\\sklearn\\metrics\\_regression.py:492: FutureWarning: 'squared' is deprecated in version 1.4 and will be removed in 1.6. To calculate the root mean squared error, use the function'root_mean_squared_error'.\n",
      "  warnings.warn(\n",
      "c:\\Users\\BAVISHYA\\anaconda3\\Lib\\site-packages\\sklearn\\metrics\\_regression.py:492: FutureWarning: 'squared' is deprecated in version 1.4 and will be removed in 1.6. To calculate the root mean squared error, use the function'root_mean_squared_error'.\n",
      "  warnings.warn(\n"
     ]
    },
    {
     "name": "stdout",
     "output_type": "stream",
     "text": [
      "Processing target category: R03\n"
     ]
    },
    {
     "name": "stderr",
     "output_type": "stream",
     "text": [
      "c:\\Users\\BAVISHYA\\anaconda3\\Lib\\site-packages\\sklearn\\metrics\\_regression.py:492: FutureWarning: 'squared' is deprecated in version 1.4 and will be removed in 1.6. To calculate the root mean squared error, use the function'root_mean_squared_error'.\n",
      "  warnings.warn(\n",
      "c:\\Users\\BAVISHYA\\anaconda3\\Lib\\site-packages\\sklearn\\metrics\\_regression.py:492: FutureWarning: 'squared' is deprecated in version 1.4 and will be removed in 1.6. To calculate the root mean squared error, use the function'root_mean_squared_error'.\n",
      "  warnings.warn(\n"
     ]
    },
    {
     "name": "stdout",
     "output_type": "stream",
     "text": [
      "Processing target category: R06\n",
      "\n",
      "--- Model Performance Comparison (with MAPE) ---\n",
      "  Category  Original RMSE  New Model RMSE  Original MAE  New Model MAE  Original MAPE (%)  New Model MAPE (%)  RMSE Improvement (%)  MAE Improvement (%)  MAPE Improvement (%)\n",
      "0    M01AB       3.057706        2.865203      2.434120       2.238059       8.135073e+06        7.713818e+06             -6.295648            -8.054701             -5.178248\n",
      "1    M01AE       2.292322        2.268642      1.744456       1.749372       7.675147e+06        6.979039e+06             -1.033051             0.281775             -9.069639\n",
      "2    N02BA       2.214596        2.134967      1.746236       1.674562       1.976458e+07        1.904642e+07             -3.595653            -4.104495             -3.633546\n",
      "3    N02BE      13.862451       13.031865     10.457826       9.716472       4.144750e+07        4.781714e+07             -5.991625            -7.088982             15.367979\n",
      "4     N05B       4.687463        4.397570      3.785135       3.417165       1.269023e+07        1.174078e+07             -6.184430            -9.721449             -7.481737\n",
      "5     N05C       1.233361        1.187218      0.901512       0.893938       4.209234e+07        4.248393e+07             -3.741260            -0.840150              0.930302\n",
      "6      R03       8.838841        8.533905      6.143789       5.993427       7.414524e+07        8.639186e+07             -3.449949            -2.447384             16.517077\n",
      "7      R06       2.445162        2.382107      1.840673       1.817593       2.256190e+07        2.386764e+07             -2.578795            -1.253912              5.787369\n"
     ]
    },
    {
     "name": "stderr",
     "output_type": "stream",
     "text": [
      "c:\\Users\\BAVISHYA\\anaconda3\\Lib\\site-packages\\sklearn\\metrics\\_regression.py:492: FutureWarning: 'squared' is deprecated in version 1.4 and will be removed in 1.6. To calculate the root mean squared error, use the function'root_mean_squared_error'.\n",
      "  warnings.warn(\n"
     ]
    }
   ],
   "source": [
    "import pandas as pd\n",
    "import numpy as np\n",
    "from sklearn.ensemble import RandomForestRegressor\n",
    "from sklearn.metrics import mean_squared_error, mean_absolute_error\n",
    "from sklearn.preprocessing import LabelEncoder\n",
    "\n",
    "# --- Function to calculate MAPE safely ---\n",
    "def calculate_mape(y_true, y_pred):\n",
    "    y_true_safe = y_true.copy()\n",
    "    y_true_safe[y_true_safe == 0] = 1e-6 # Avoid division by zero\n",
    "    return np.mean(np.abs((y_true - y_pred) / y_true_safe)) * 100\n",
    "\n",
    "# --- 1. Load and Preprocess the OLD Dataset ---\n",
    "try:\n",
    "    df_old = pd.read_csv('E:/final_pharma_forcast/DATA/holidays (1).csv')\n",
    "    df_old['datum'] = pd.to_datetime(df_old['datum'])\n",
    "    df_old = df_old.set_index('datum')\n",
    "    df_old_daily = df_old.resample('D').sum()\n",
    "    df_old_daily['Year'] = df_old_daily.index.year\n",
    "    df_old_daily['Month'] = df_old_daily.index.month\n",
    "    df_old_daily['Day'] = df_old_daily.index.day\n",
    "    df_old_daily['Weekday'] = df_old_daily.index.weekday\n",
    "except FileNotFoundError:\n",
    "    print(\"Could not find 'combined_preprocessed_sales_data (1).csv'.\")\n",
    "    exit()\n",
    "\n",
    "# --- 2. Load and Preprocess the NEW Dataset with Holidays ---\n",
    "try:\n",
    "    df_new = pd.read_csv('E:/xgboost/Data/holidays (1).csv')\n",
    "    df_new['datum'] = pd.to_datetime(df_new['datum'])\n",
    "    df_new = df_new.set_index('datum')\n",
    "    if 'Weekday Name' in df_new.columns:\n",
    "        le = LabelEncoder()\n",
    "        df_new['Weekday Name'] = le.fit_transform(df_new['Weekday Name'])\n",
    "except FileNotFoundError:\n",
    "    print(\"Could not find 'holidays (1).csv'.\")\n",
    "    exit()\n",
    "\n",
    "# --- 3. Define Targets and Features ---\n",
    "target_cols = ['M01AB', 'M01AE', 'N02BA', 'N02BE', 'N05B', 'N05C', 'R03', 'R06']\n",
    "features_old = ['Year', 'Month', 'Day', 'Weekday']\n",
    "non_feature_cols = ['Hour'] + target_cols\n",
    "features_new = [col for col in df_new.columns if col not in non_feature_cols]\n",
    "\n",
    "# --- 4. Loop, Train, and Evaluate ---\n",
    "results = []\n",
    "for target in target_cols:\n",
    "    print(f\"Processing target category: {target}\")\n",
    "\n",
    "    # --- Model 1: Original Data ---\n",
    "    X_old = df_old_daily[features_old]\n",
    "    y_old = df_old_daily[target]\n",
    "    valid_indices_old = ~y_old.isna()\n",
    "    X_old, y_old = X_old[valid_indices_old], y_old[valid_indices_old]\n",
    "    split_idx_old = int(len(X_old) * 0.8)\n",
    "    X_train_old, X_test_old = X_old[:split_idx_old], X_old[split_idx_old:]\n",
    "    y_train_old, y_test_old = y_old[:split_idx_old], y_old[split_idx_old:]\n",
    "\n",
    "    model_old = RandomForestRegressor(n_estimators=100, random_state=42, n_jobs=-1)\n",
    "    model_old.fit(X_train_old, y_train_old)\n",
    "    preds_old = model_old.predict(X_test_old)\n",
    "    rmse_old = mean_squared_error(y_test_old, preds_old, squared=False)\n",
    "    mae_old = mean_absolute_error(y_test_old, preds_old)\n",
    "    mape_old = calculate_mape(y_test_old, preds_old)\n",
    "\n",
    "    # --- Model 2: New Data with Holidays ---\n",
    "    X_new = df_new[features_new]\n",
    "    y_new = df_new[target]\n",
    "    valid_indices_new = ~y_new.isna()\n",
    "    X_new, y_new = X_new[valid_indices_new], y_new[valid_indices_new]\n",
    "    split_idx_new = int(len(X_new) * 0.8)\n",
    "    X_train_new, X_test_new = X_new[:split_idx_new], X_new[split_idx_new:]\n",
    "    y_train_new, y_test_new = y_new[:split_idx_new], y_new[split_idx_new:]\n",
    "\n",
    "    model_new = RandomForestRegressor(n_estimators=100, random_state=42, n_jobs=-1)\n",
    "    model_new.fit(X_train_new, y_train_new)\n",
    "    preds_new = model_new.predict(X_test_new)\n",
    "    rmse_new = mean_squared_error(y_test_new, preds_new, squared=False)\n",
    "    mae_new = mean_absolute_error(y_test_new, preds_new)\n",
    "    mape_new = calculate_mape(y_test_new, preds_new)\n",
    "\n",
    "    # --- Store results ---\n",
    "    results.append({\n",
    "        \"Category\": target,\n",
    "        \"Original RMSE\": rmse_old, \"New Model RMSE\": rmse_new,\n",
    "        \"Original MAE\": mae_old, \"New Model MAE\": mae_new,\n",
    "        \"Original MAPE (%)\": mape_old, \"New Model MAPE (%)\": mape_new,\n",
    "    })\n",
    "\n",
    "# --- 5. Present the Comparison ---\n",
    "results_df = pd.DataFrame(results)\n",
    "results_df['RMSE Improvement (%)'] = ((results_df['New Model RMSE'] - results_df['Original RMSE']) / results_df['Original RMSE']) * 100\n",
    "results_df['MAE Improvement (%)'] = ((results_df['New Model MAE'] - results_df['Original MAE']) / results_df['Original MAE']) * 100\n",
    "results_df['MAPE Improvement (%)'] = ((results_df['New Model MAPE (%)'] - results_df['Original MAPE (%)']) / results_df['Original MAPE (%)']) * 100\n",
    "\n",
    "print(\"\\n--- Model Performance Comparison (with MAPE) ---\")\n",
    "print(results_df.to_string())"
   ]
  },
  {
   "cell_type": "markdown",
   "id": "1671eaba",
   "metadata": {},
   "source": [
    "Forecasting Model Comparison Analysis\n",
    "Objective: To scientifically determine the most accurate forecasting model by comparing the performance of a model trained on basic date features against a model trained on an enriched dataset with holiday and seasonal information.\n",
    "\n",
    "1. Project Overview\n",
    "This notebook serves as the final and most critical step in the forecasting project. The goal is to move beyond building a single model and instead, to rigorously compare different modeling approaches to identify the superior one.\n",
    "\n",
    "The core hypothesis being tested is: Does adding rich, contextual features (like holidays and seasonal flags) lead to a statistically significant improvement in forecast accuracy?\n",
    "\n",
    "To answer this, the notebook directly compares the performance of a model trained on the original, simple dataset against a model trained on the feature-rich holidays.csv dataset.\n",
    "\n",
    "2. Technical Approach\n",
    "The methodology is designed for a fair, head-to-head comparison. For each of the 8 drug categories, two separate models are trained and evaluated.\n",
    "\n",
    "Dataset Preparation:\n",
    "\n",
    "Original Data (combined_preprocessed_sales_data (1).csv): This dataset is loaded and aggregated to a daily level. Its features are limited to simple date components (Year, Month, Day, Weekday).\n",
    "\n",
    "New Data (holidays.csv): This feature-rich dataset is loaded. Its features include all the simple date components plus the 27 holiday and seasonal indicator columns.\n",
    "\n",
    "Model Training:\n",
    "\n",
    "For each drug category, a Random Forest Regressor is trained on the original dataset.\n",
    "\n",
    "A second, separate Random Forest Regressor is trained on the new, feature-rich dataset.\n",
    "\n",
    "Evaluation and Comparison:\n",
    "\n",
    "Both models are evaluated on their respective test sets using the same metrics: RMSE, MAE, and MAPE.\n",
    "\n",
    "The results are compiled into a final summary table that calculates the percentage improvement offered by the new model, providing a clear and quantifiable measure of its superiority."
   ]
  }
 ],
 "metadata": {
  "kernelspec": {
   "display_name": "base",
   "language": "python",
   "name": "python3"
  },
  "language_info": {
   "codemirror_mode": {
    "name": "ipython",
    "version": 3
   },
   "file_extension": ".py",
   "mimetype": "text/x-python",
   "name": "python",
   "nbconvert_exporter": "python",
   "pygments_lexer": "ipython3",
   "version": "3.12.7"
  }
 },
 "nbformat": 4,
 "nbformat_minor": 5
}
